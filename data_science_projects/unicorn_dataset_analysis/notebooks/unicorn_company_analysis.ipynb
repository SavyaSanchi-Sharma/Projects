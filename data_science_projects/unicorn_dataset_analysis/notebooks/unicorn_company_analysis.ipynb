{
 "cells": [
  {
   "cell_type": "code",
   "execution_count": null,
   "metadata": {},
   "outputs": [],
   "source": [
    "#importing required libraries\n",
    "import pandas as pd\n",
    "import matplotlib.pyplot as plt\n",
    "import seaborn as sns\n",
    "import plotly.express as px\n",
    "import numpy as np"
   ]
  },
  {
   "cell_type": "code",
   "execution_count": null,
   "metadata": {},
   "outputs": [],
   "source": [
    "#ignore all the warnings\n",
    "import warnings\n",
    "warnings.filterwarnings('ignore')"
   ]
  },
  {
   "cell_type": "code",
   "execution_count": null,
   "metadata": {},
   "outputs": [],
   "source": [
    "dataset=pd.read_csv('/home/hacker_bunny/Files/Projects/data_science_projects/unicorn_dataset_analysis/dataset/Unicorn_Companies.csv')\n",
    "dataset.head()"
   ]
  },
  {
   "cell_type": "code",
   "execution_count": null,
   "metadata": {},
   "outputs": [],
   "source": [
    "dataset.isna().sum()"
   ]
  },
  {
   "cell_type": "code",
   "execution_count": null,
   "metadata": {},
   "outputs": [],
   "source": [
    "def country_vs_company_vis(data,type):\n",
    "    fig = px.pie(data, \n",
    "             names='Country', \n",
    "             values=type, \n",
    "             hover_data=[type],\n",
    "             title=type, \n",
    "             labels={'Country': 'Country Name'},   \n",
    "             color_discrete_sequence=px.colors.qualitative.Dark24,\n",
    "             hole=0.3\n",
    "             )\n",
    "\n",
    "    # Update layout\n",
    "    fig.update_layout(\n",
    "        title_font_size=20,  # Title font size\n",
    "        title_font_family='Arial',  # Title font family\n",
    "        title_x=0.5,  # Title position\n",
    "        showlegend=True,  # Show legend\n",
    "        legend_title='Countries',  # Legend title\n",
    "        legend_font_size=12,  # Legend font size\n",
    "        legend_tracegroupgap=10,  # Gap between legend items\n",
    "        width=800,  # Overall width\n",
    "        height=500,  # Overall height\n",
    "        )\n",
    "    fig.show()"
   ]
  },
  {
   "cell_type": "code",
   "execution_count": null,
   "metadata": {},
   "outputs": [],
   "source": [
    "def company_vs_valuation_vis(data,type,Range,size):\n",
    "    plt.figure(figsize=size)\n",
    "    sns.set_theme(context='paper',style='whitegrid',palette='Spectral')\n",
    "    sns.set_color_codes('deep')\n",
    "    sns.barplot(data,\n",
    "                x='Company',y='Valuation',\n",
    "                hue='Country',\n",
    "                )\n",
    "    plt.xticks(rotation=90)\n",
    "    plt.yticks(Range)\n",
    "    plt.xlabel('Company', fontsize=14)\n",
    "    plt.ylabel('Valuation in Billion $', fontsize=14)\n",
    "    plt.title(f'Distribution of {type} Valuation', fontsize=16)\n",
    "    plt.tight_layout()\n",
    "    plt.show()"
   ]
  },
  {
   "cell_type": "code",
   "execution_count": null,
   "metadata": {},
   "outputs": [],
   "source": [
    "\n",
    "cleaned_dataset=dataset.drop(columns=['Date Joined','Select Inverstors','Deal Terms','City']).rename(columns={'Valuation ($B)':'Valuation'}).fillna('Unknown')\n",
    "cleaned_dataset['Valuation']=cleaned_dataset['Valuation'].str.replace(\"$\",\"\").astype(float)\n",
    "cleaned_dataset"
   ]
  },
  {
   "cell_type": "markdown",
   "metadata": {},
   "source": [
    "# Now let us see which country has the most unicorn companies"
   ]
  },
  {
   "cell_type": "code",
   "execution_count": null,
   "metadata": {},
   "outputs": [],
   "source": [
    "country_count=cleaned_dataset['Country'].value_counts().reset_index().rename(columns={'count':'Number of Unicorn Companies'})\n",
    "others=country_count[country_count['Number of Unicorn Companies']<7]['Number of Unicorn Companies'].sum()\n",
    "new_row={'Country':'Others','Number of Unicorn Companies':int(others)}\n",
    "country_count=country_count[country_count['Number of Unicorn Companies']>=7]\n",
    "country_count.loc[len(country_count)]=new_row\n",
    "country_count"
   ]
  },
  {
   "cell_type": "code",
   "execution_count": null,
   "metadata": {},
   "outputs": [],
   "source": [
    "country_vs_company_vis(country_count,'Number of Unicorn Companies')\n"
   ]
  },
  {
   "cell_type": "code",
   "execution_count": null,
   "metadata": {},
   "outputs": [],
   "source": [
    "cleaned_dataset['Industry'].unique()#Ai,Fintech,Cybersecurity,Data management and analytics"
   ]
  },
  {
   "cell_type": "code",
   "execution_count": null,
   "metadata": {},
   "outputs": [],
   "source": [
    "working_industries=['Artificial intelligence''Artificial Intelligence','Cybersecurity','Fintech']\n",
    "filtered_dataset=cleaned_dataset[dataset['Industry'].isin(working_industries)]\n",
    "filtered_dataset"
   ]
  },
  {
   "cell_type": "code",
   "execution_count": null,
   "metadata": {},
   "outputs": [],
   "source": [
    "def other_row(data,company,no):\n",
    "    data_country=data['Country'].value_counts().reset_index().rename(columns={'count':f'Number of {company} Unicorn Companies'})\n",
    "    others=data_country[data_country[f'Number of {company} Unicorn Companies']<no][f'Number of {company} Unicorn Companies'].sum()\n",
    "    new_row={'Country':'Others',f'Number of {company} Unicorn Companies':int(others)}\n",
    "    data_country=data_country[data_country[f'Number of {company} Unicorn Companies']>=no]\n",
    "    data_country.loc[len(data_country)]=new_row\n",
    "    return data_country\n"
   ]
  },
  {
   "cell_type": "markdown",
   "metadata": {},
   "source": [
    "# Fintech unicorn companies"
   ]
  },
  {
   "cell_type": "code",
   "execution_count": null,
   "metadata": {},
   "outputs": [],
   "source": [
    "dataset_Fintech_subset=cleaned_dataset[dataset['Industry'].isin(['Fintech'])].drop(columns=['Industry'])\n",
    "dataset_Fintech_subset"
   ]
  },
  {
   "cell_type": "code",
   "execution_count": null,
   "metadata": {},
   "outputs": [],
   "source": [
    "dataset_Fintech_subset['Country'].unique()"
   ]
  },
  {
   "cell_type": "markdown",
   "metadata": {},
   "source": [
    "### Country Distribution of Fintech Unicorn Companies\n",
    " Let's determine which country hosts the most fintech unicorn companies. This analysis will reveal the leading regions for high-value fintech startups."
   ]
  },
  {
   "cell_type": "code",
   "execution_count": null,
   "metadata": {},
   "outputs": [],
   "source": [
    "fintech_country=other_row(dataset_Fintech_subset,'Fintech',2)\n",
    "fintech_country"
   ]
  },
  {
   "cell_type": "code",
   "execution_count": null,
   "metadata": {},
   "outputs": [],
   "source": [
    "country_vs_company_vis(fintech_country,'Number of Fintech Unicorn Companies')"
   ]
  },
  {
   "cell_type": "markdown",
   "metadata": {},
   "source": [
    "## Most valued Fintech company\n"
   ]
  },
  {
   "cell_type": "code",
   "execution_count": null,
   "metadata": {},
   "outputs": [],
   "source": [
    "data_sorted=dataset_Fintech_subset.sort_values(by='Valuation',ascending=False).reset_index(drop=True)\n",
    "fintech_valuation=data_sorted[data_sorted['Valuation']>3]\n",
    "fintech_valuation=fintech_valuation.iloc[:,0:3]\n",
    "fintech_valuation"
   ]
  },
  {
   "cell_type": "code",
   "execution_count": null,
   "metadata": {},
   "outputs": [],
   "source": [
    "company_vs_valuation_vis(fintech_valuation,'Fintech',Range=range(0,101,10),size=(12,8))"
   ]
  },
  {
   "cell_type": "code",
   "execution_count": null,
   "metadata": {},
   "outputs": [],
   "source": [
    "dataset_Fintech_subset.loc[(dataset_Fintech_subset['Company'] == 'Stripe') | (dataset_Fintech_subset['Company'] == 'Klarna') | (dataset_Fintech_subset['Company'] == 'Checkout.com')]"
   ]
  },
  {
   "cell_type": "markdown",
   "metadata": {},
   "source": [
    "## Least valued Fintech Company "
   ]
  },
  {
   "cell_type": "code",
   "execution_count": null,
   "metadata": {},
   "outputs": [],
   "source": [
    "data_sorted=dataset_Fintech_subset.sort_values(by='Valuation',ascending=True).reset_index(drop=True)\n",
    "fintech_valuation_l=data_sorted[data_sorted['Valuation']<1.5]\n",
    "fintech_valuation_l=fintech_valuation_l.iloc[:,0:3]\n",
    "fintech_valuation_l"
   ]
  },
  {
   "cell_type": "code",
   "execution_count": null,
   "metadata": {},
   "outputs": [],
   "source": [
    "company_vs_valuation_vis(fintech_valuation_l,'Fintech',np.arange(0,2,0.1),(12,8))"
   ]
  },
  {
   "cell_type": "markdown",
   "metadata": {},
   "source": [
    "### So from the above graph we can see that the lowest valuation is $1 Billion dollars, and there is many unicorns let us analyse all of them"
   ]
  },
  {
   "cell_type": "code",
   "execution_count": null,
   "metadata": {},
   "outputs": [],
   "source": [
    "l_valuation=dataset_Fintech_subset.loc[dataset_Fintech_subset['Valuation']==1]\n",
    "l_valuation"
   ]
  },
  {
   "cell_type": "code",
   "execution_count": null,
   "metadata": {},
   "outputs": [],
   "source": [
    "country_l_valuation=l_valuation['Country'].value_counts().reset_index().rename(columns={'count':'Least Valued Fintech Companies'})\n",
    "country_vs_company_vis(country_l_valuation,'Least Valued Fintech Companies')"
   ]
  },
  {
   "cell_type": "code",
   "execution_count": null,
   "metadata": {},
   "outputs": [],
   "source": [
    "l_valuation['Founded Year'].value_counts().reset_index()"
   ]
  },
  {
   "cell_type": "code",
   "execution_count": null,
   "metadata": {},
   "outputs": [],
   "source": [
    "l_valuation['Financial Stage'].unique()"
   ]
  },
  {
   "cell_type": "code",
   "execution_count": null,
   "metadata": {},
   "outputs": [],
   "source": [
    "l_valuation['Investors Count'].value_counts()"
   ]
  },
  {
   "cell_type": "markdown",
   "metadata": {},
   "source": [
    "# Artificial Intelligence based Unicorn Companies"
   ]
  },
  {
   "cell_type": "code",
   "execution_count": null,
   "metadata": {},
   "outputs": [],
   "source": [
    "ai=['Artificial Intelligence','Artificial intelligence']\n",
    "dataset_ai_subset=cleaned_dataset[cleaned_dataset['Industry'].isin(ai)]\n",
    "dataset_ai_subset['Industry']=dataset_ai_subset['Industry'].replace({'Artificial Intelligence':'AI','Artificial intelligence':'AI'})\n",
    "dataset_ai_subset"
   ]
  },
  {
   "cell_type": "markdown",
   "metadata": {},
   "source": [
    "### Country distribution of Artificial Intelligence based Unicorn companies"
   ]
  },
  {
   "cell_type": "code",
   "execution_count": 36,
   "metadata": {},
   "outputs": [
    {
     "data": {
      "text/plain": [
       "array(['China', 'United States', 'United Kingdom', 'Japan', 'Israel',\n",
       "       'Bermuda', 'Chile', 'Estonia', 'Canada', 'France', 'Brazil'],\n",
       "      dtype=object)"
      ]
     },
     "execution_count": 36,
     "metadata": {},
     "output_type": "execute_result"
    }
   ],
   "source": [
    "dataset_ai_subset['Country'].unique()"
   ]
  },
  {
   "cell_type": "code",
   "execution_count": 42,
   "metadata": {},
   "outputs": [
    {
     "data": {
      "text/html": [
       "<div>\n",
       "<style scoped>\n",
       "    .dataframe tbody tr th:only-of-type {\n",
       "        vertical-align: middle;\n",
       "    }\n",
       "\n",
       "    .dataframe tbody tr th {\n",
       "        vertical-align: top;\n",
       "    }\n",
       "\n",
       "    .dataframe thead th {\n",
       "        text-align: right;\n",
       "    }\n",
       "</style>\n",
       "<table border=\"1\" class=\"dataframe\">\n",
       "  <thead>\n",
       "    <tr style=\"text-align: right;\">\n",
       "      <th></th>\n",
       "      <th>Country</th>\n",
       "      <th>Number of AI based Unicorn Companies</th>\n",
       "    </tr>\n",
       "  </thead>\n",
       "  <tbody>\n",
       "    <tr>\n",
       "      <th>0</th>\n",
       "      <td>United States</td>\n",
       "      <td>43</td>\n",
       "    </tr>\n",
       "    <tr>\n",
       "      <th>1</th>\n",
       "      <td>China</td>\n",
       "      <td>19</td>\n",
       "    </tr>\n",
       "    <tr>\n",
       "      <th>2</th>\n",
       "      <td>United Kingdom</td>\n",
       "      <td>3</td>\n",
       "    </tr>\n",
       "    <tr>\n",
       "      <th>3</th>\n",
       "      <td>Israel</td>\n",
       "      <td>3</td>\n",
       "    </tr>\n",
       "    <tr>\n",
       "      <th>4</th>\n",
       "      <td>Chile</td>\n",
       "      <td>2</td>\n",
       "    </tr>\n",
       "    <tr>\n",
       "      <th>5</th>\n",
       "      <td>Canada</td>\n",
       "      <td>2</td>\n",
       "    </tr>\n",
       "    <tr>\n",
       "      <th>6</th>\n",
       "      <td>France</td>\n",
       "      <td>2</td>\n",
       "    </tr>\n",
       "    <tr>\n",
       "      <th>7</th>\n",
       "      <td>Japan</td>\n",
       "      <td>1</td>\n",
       "    </tr>\n",
       "    <tr>\n",
       "      <th>8</th>\n",
       "      <td>Bermuda</td>\n",
       "      <td>1</td>\n",
       "    </tr>\n",
       "    <tr>\n",
       "      <th>9</th>\n",
       "      <td>Estonia</td>\n",
       "      <td>1</td>\n",
       "    </tr>\n",
       "    <tr>\n",
       "      <th>10</th>\n",
       "      <td>Brazil</td>\n",
       "      <td>1</td>\n",
       "    </tr>\n",
       "  </tbody>\n",
       "</table>\n",
       "</div>"
      ],
      "text/plain": [
       "           Country  Number of AI based Unicorn Companies\n",
       "0    United States                                    43\n",
       "1            China                                    19\n",
       "2   United Kingdom                                     3\n",
       "3           Israel                                     3\n",
       "4            Chile                                     2\n",
       "5           Canada                                     2\n",
       "6           France                                     2\n",
       "7            Japan                                     1\n",
       "8          Bermuda                                     1\n",
       "9          Estonia                                     1\n",
       "10          Brazil                                     1"
      ]
     },
     "execution_count": 42,
     "metadata": {},
     "output_type": "execute_result"
    }
   ],
   "source": [
    "country_ai_count=dataset_ai_subset['Country'].value_counts().reset_index().rename(columns={'count':'Number of AI based Unicorn Companies'})\n",
    "country_ai_count"
   ]
  },
  {
   "cell_type": "code",
   "execution_count": 43,
   "metadata": {},
   "outputs": [
    {
     "data": {
      "application/vnd.plotly.v1+json": {
       "config": {
        "plotlyServerURL": "https://plot.ly"
       },
       "data": [
        {
         "customdata": [
          [
           43
          ],
          [
           19
          ],
          [
           3
          ],
          [
           3
          ],
          [
           2
          ],
          [
           2
          ],
          [
           2
          ],
          [
           1
          ],
          [
           1
          ],
          [
           1
          ],
          [
           1
          ]
         ],
         "domain": {
          "x": [
           0,
           1
          ],
          "y": [
           0,
           1
          ]
         },
         "hole": 0.3,
         "hovertemplate": "Country Name=%{label}<br>Number of AI based Unicorn Companies=%{customdata[0]}<extra></extra>",
         "labels": [
          "United States",
          "China",
          "United Kingdom",
          "Israel",
          "Chile",
          "Canada",
          "France",
          "Japan",
          "Bermuda",
          "Estonia",
          "Brazil"
         ],
         "legendgroup": "",
         "name": "",
         "showlegend": true,
         "type": "pie",
         "values": [
          43,
          19,
          3,
          3,
          2,
          2,
          2,
          1,
          1,
          1,
          1
         ]
        }
       ],
       "layout": {
        "height": 500,
        "legend": {
         "font": {
          "size": 12
         },
         "title": {
          "text": "Countries"
         },
         "tracegroupgap": 10
        },
        "piecolorway": [
         "#2E91E5",
         "#E15F99",
         "#1CA71C",
         "#FB0D0D",
         "#DA16FF",
         "#222A2A",
         "#B68100",
         "#750D86",
         "#EB663B",
         "#511CFB",
         "#00A08B",
         "#FB00D1",
         "#FC0080",
         "#B2828D",
         "#6C7C32",
         "#778AAE",
         "#862A16",
         "#A777F1",
         "#620042",
         "#1616A7",
         "#DA60CA",
         "#6C4516",
         "#0D2A63",
         "#AF0038"
        ],
        "showlegend": true,
        "template": {
         "data": {
          "bar": [
           {
            "error_x": {
             "color": "#2a3f5f"
            },
            "error_y": {
             "color": "#2a3f5f"
            },
            "marker": {
             "line": {
              "color": "#E5ECF6",
              "width": 0.5
             },
             "pattern": {
              "fillmode": "overlay",
              "size": 10,
              "solidity": 0.2
             }
            },
            "type": "bar"
           }
          ],
          "barpolar": [
           {
            "marker": {
             "line": {
              "color": "#E5ECF6",
              "width": 0.5
             },
             "pattern": {
              "fillmode": "overlay",
              "size": 10,
              "solidity": 0.2
             }
            },
            "type": "barpolar"
           }
          ],
          "carpet": [
           {
            "aaxis": {
             "endlinecolor": "#2a3f5f",
             "gridcolor": "white",
             "linecolor": "white",
             "minorgridcolor": "white",
             "startlinecolor": "#2a3f5f"
            },
            "baxis": {
             "endlinecolor": "#2a3f5f",
             "gridcolor": "white",
             "linecolor": "white",
             "minorgridcolor": "white",
             "startlinecolor": "#2a3f5f"
            },
            "type": "carpet"
           }
          ],
          "choropleth": [
           {
            "colorbar": {
             "outlinewidth": 0,
             "ticks": ""
            },
            "type": "choropleth"
           }
          ],
          "contour": [
           {
            "colorbar": {
             "outlinewidth": 0,
             "ticks": ""
            },
            "colorscale": [
             [
              0,
              "#0d0887"
             ],
             [
              0.1111111111111111,
              "#46039f"
             ],
             [
              0.2222222222222222,
              "#7201a8"
             ],
             [
              0.3333333333333333,
              "#9c179e"
             ],
             [
              0.4444444444444444,
              "#bd3786"
             ],
             [
              0.5555555555555556,
              "#d8576b"
             ],
             [
              0.6666666666666666,
              "#ed7953"
             ],
             [
              0.7777777777777778,
              "#fb9f3a"
             ],
             [
              0.8888888888888888,
              "#fdca26"
             ],
             [
              1,
              "#f0f921"
             ]
            ],
            "type": "contour"
           }
          ],
          "contourcarpet": [
           {
            "colorbar": {
             "outlinewidth": 0,
             "ticks": ""
            },
            "type": "contourcarpet"
           }
          ],
          "heatmap": [
           {
            "colorbar": {
             "outlinewidth": 0,
             "ticks": ""
            },
            "colorscale": [
             [
              0,
              "#0d0887"
             ],
             [
              0.1111111111111111,
              "#46039f"
             ],
             [
              0.2222222222222222,
              "#7201a8"
             ],
             [
              0.3333333333333333,
              "#9c179e"
             ],
             [
              0.4444444444444444,
              "#bd3786"
             ],
             [
              0.5555555555555556,
              "#d8576b"
             ],
             [
              0.6666666666666666,
              "#ed7953"
             ],
             [
              0.7777777777777778,
              "#fb9f3a"
             ],
             [
              0.8888888888888888,
              "#fdca26"
             ],
             [
              1,
              "#f0f921"
             ]
            ],
            "type": "heatmap"
           }
          ],
          "heatmapgl": [
           {
            "colorbar": {
             "outlinewidth": 0,
             "ticks": ""
            },
            "colorscale": [
             [
              0,
              "#0d0887"
             ],
             [
              0.1111111111111111,
              "#46039f"
             ],
             [
              0.2222222222222222,
              "#7201a8"
             ],
             [
              0.3333333333333333,
              "#9c179e"
             ],
             [
              0.4444444444444444,
              "#bd3786"
             ],
             [
              0.5555555555555556,
              "#d8576b"
             ],
             [
              0.6666666666666666,
              "#ed7953"
             ],
             [
              0.7777777777777778,
              "#fb9f3a"
             ],
             [
              0.8888888888888888,
              "#fdca26"
             ],
             [
              1,
              "#f0f921"
             ]
            ],
            "type": "heatmapgl"
           }
          ],
          "histogram": [
           {
            "marker": {
             "pattern": {
              "fillmode": "overlay",
              "size": 10,
              "solidity": 0.2
             }
            },
            "type": "histogram"
           }
          ],
          "histogram2d": [
           {
            "colorbar": {
             "outlinewidth": 0,
             "ticks": ""
            },
            "colorscale": [
             [
              0,
              "#0d0887"
             ],
             [
              0.1111111111111111,
              "#46039f"
             ],
             [
              0.2222222222222222,
              "#7201a8"
             ],
             [
              0.3333333333333333,
              "#9c179e"
             ],
             [
              0.4444444444444444,
              "#bd3786"
             ],
             [
              0.5555555555555556,
              "#d8576b"
             ],
             [
              0.6666666666666666,
              "#ed7953"
             ],
             [
              0.7777777777777778,
              "#fb9f3a"
             ],
             [
              0.8888888888888888,
              "#fdca26"
             ],
             [
              1,
              "#f0f921"
             ]
            ],
            "type": "histogram2d"
           }
          ],
          "histogram2dcontour": [
           {
            "colorbar": {
             "outlinewidth": 0,
             "ticks": ""
            },
            "colorscale": [
             [
              0,
              "#0d0887"
             ],
             [
              0.1111111111111111,
              "#46039f"
             ],
             [
              0.2222222222222222,
              "#7201a8"
             ],
             [
              0.3333333333333333,
              "#9c179e"
             ],
             [
              0.4444444444444444,
              "#bd3786"
             ],
             [
              0.5555555555555556,
              "#d8576b"
             ],
             [
              0.6666666666666666,
              "#ed7953"
             ],
             [
              0.7777777777777778,
              "#fb9f3a"
             ],
             [
              0.8888888888888888,
              "#fdca26"
             ],
             [
              1,
              "#f0f921"
             ]
            ],
            "type": "histogram2dcontour"
           }
          ],
          "mesh3d": [
           {
            "colorbar": {
             "outlinewidth": 0,
             "ticks": ""
            },
            "type": "mesh3d"
           }
          ],
          "parcoords": [
           {
            "line": {
             "colorbar": {
              "outlinewidth": 0,
              "ticks": ""
             }
            },
            "type": "parcoords"
           }
          ],
          "pie": [
           {
            "automargin": true,
            "type": "pie"
           }
          ],
          "scatter": [
           {
            "marker": {
             "colorbar": {
              "outlinewidth": 0,
              "ticks": ""
             }
            },
            "type": "scatter"
           }
          ],
          "scatter3d": [
           {
            "line": {
             "colorbar": {
              "outlinewidth": 0,
              "ticks": ""
             }
            },
            "marker": {
             "colorbar": {
              "outlinewidth": 0,
              "ticks": ""
             }
            },
            "type": "scatter3d"
           }
          ],
          "scattercarpet": [
           {
            "marker": {
             "colorbar": {
              "outlinewidth": 0,
              "ticks": ""
             }
            },
            "type": "scattercarpet"
           }
          ],
          "scattergeo": [
           {
            "marker": {
             "colorbar": {
              "outlinewidth": 0,
              "ticks": ""
             }
            },
            "type": "scattergeo"
           }
          ],
          "scattergl": [
           {
            "marker": {
             "colorbar": {
              "outlinewidth": 0,
              "ticks": ""
             }
            },
            "type": "scattergl"
           }
          ],
          "scattermapbox": [
           {
            "marker": {
             "colorbar": {
              "outlinewidth": 0,
              "ticks": ""
             }
            },
            "type": "scattermapbox"
           }
          ],
          "scatterpolar": [
           {
            "marker": {
             "colorbar": {
              "outlinewidth": 0,
              "ticks": ""
             }
            },
            "type": "scatterpolar"
           }
          ],
          "scatterpolargl": [
           {
            "marker": {
             "colorbar": {
              "outlinewidth": 0,
              "ticks": ""
             }
            },
            "type": "scatterpolargl"
           }
          ],
          "scatterternary": [
           {
            "marker": {
             "colorbar": {
              "outlinewidth": 0,
              "ticks": ""
             }
            },
            "type": "scatterternary"
           }
          ],
          "surface": [
           {
            "colorbar": {
             "outlinewidth": 0,
             "ticks": ""
            },
            "colorscale": [
             [
              0,
              "#0d0887"
             ],
             [
              0.1111111111111111,
              "#46039f"
             ],
             [
              0.2222222222222222,
              "#7201a8"
             ],
             [
              0.3333333333333333,
              "#9c179e"
             ],
             [
              0.4444444444444444,
              "#bd3786"
             ],
             [
              0.5555555555555556,
              "#d8576b"
             ],
             [
              0.6666666666666666,
              "#ed7953"
             ],
             [
              0.7777777777777778,
              "#fb9f3a"
             ],
             [
              0.8888888888888888,
              "#fdca26"
             ],
             [
              1,
              "#f0f921"
             ]
            ],
            "type": "surface"
           }
          ],
          "table": [
           {
            "cells": {
             "fill": {
              "color": "#EBF0F8"
             },
             "line": {
              "color": "white"
             }
            },
            "header": {
             "fill": {
              "color": "#C8D4E3"
             },
             "line": {
              "color": "white"
             }
            },
            "type": "table"
           }
          ]
         },
         "layout": {
          "annotationdefaults": {
           "arrowcolor": "#2a3f5f",
           "arrowhead": 0,
           "arrowwidth": 1
          },
          "autotypenumbers": "strict",
          "coloraxis": {
           "colorbar": {
            "outlinewidth": 0,
            "ticks": ""
           }
          },
          "colorscale": {
           "diverging": [
            [
             0,
             "#8e0152"
            ],
            [
             0.1,
             "#c51b7d"
            ],
            [
             0.2,
             "#de77ae"
            ],
            [
             0.3,
             "#f1b6da"
            ],
            [
             0.4,
             "#fde0ef"
            ],
            [
             0.5,
             "#f7f7f7"
            ],
            [
             0.6,
             "#e6f5d0"
            ],
            [
             0.7,
             "#b8e186"
            ],
            [
             0.8,
             "#7fbc41"
            ],
            [
             0.9,
             "#4d9221"
            ],
            [
             1,
             "#276419"
            ]
           ],
           "sequential": [
            [
             0,
             "#0d0887"
            ],
            [
             0.1111111111111111,
             "#46039f"
            ],
            [
             0.2222222222222222,
             "#7201a8"
            ],
            [
             0.3333333333333333,
             "#9c179e"
            ],
            [
             0.4444444444444444,
             "#bd3786"
            ],
            [
             0.5555555555555556,
             "#d8576b"
            ],
            [
             0.6666666666666666,
             "#ed7953"
            ],
            [
             0.7777777777777778,
             "#fb9f3a"
            ],
            [
             0.8888888888888888,
             "#fdca26"
            ],
            [
             1,
             "#f0f921"
            ]
           ],
           "sequentialminus": [
            [
             0,
             "#0d0887"
            ],
            [
             0.1111111111111111,
             "#46039f"
            ],
            [
             0.2222222222222222,
             "#7201a8"
            ],
            [
             0.3333333333333333,
             "#9c179e"
            ],
            [
             0.4444444444444444,
             "#bd3786"
            ],
            [
             0.5555555555555556,
             "#d8576b"
            ],
            [
             0.6666666666666666,
             "#ed7953"
            ],
            [
             0.7777777777777778,
             "#fb9f3a"
            ],
            [
             0.8888888888888888,
             "#fdca26"
            ],
            [
             1,
             "#f0f921"
            ]
           ]
          },
          "colorway": [
           "#636efa",
           "#EF553B",
           "#00cc96",
           "#ab63fa",
           "#FFA15A",
           "#19d3f3",
           "#FF6692",
           "#B6E880",
           "#FF97FF",
           "#FECB52"
          ],
          "font": {
           "color": "#2a3f5f"
          },
          "geo": {
           "bgcolor": "white",
           "lakecolor": "white",
           "landcolor": "#E5ECF6",
           "showlakes": true,
           "showland": true,
           "subunitcolor": "white"
          },
          "hoverlabel": {
           "align": "left"
          },
          "hovermode": "closest",
          "mapbox": {
           "style": "light"
          },
          "paper_bgcolor": "white",
          "plot_bgcolor": "#E5ECF6",
          "polar": {
           "angularaxis": {
            "gridcolor": "white",
            "linecolor": "white",
            "ticks": ""
           },
           "bgcolor": "#E5ECF6",
           "radialaxis": {
            "gridcolor": "white",
            "linecolor": "white",
            "ticks": ""
           }
          },
          "scene": {
           "xaxis": {
            "backgroundcolor": "#E5ECF6",
            "gridcolor": "white",
            "gridwidth": 2,
            "linecolor": "white",
            "showbackground": true,
            "ticks": "",
            "zerolinecolor": "white"
           },
           "yaxis": {
            "backgroundcolor": "#E5ECF6",
            "gridcolor": "white",
            "gridwidth": 2,
            "linecolor": "white",
            "showbackground": true,
            "ticks": "",
            "zerolinecolor": "white"
           },
           "zaxis": {
            "backgroundcolor": "#E5ECF6",
            "gridcolor": "white",
            "gridwidth": 2,
            "linecolor": "white",
            "showbackground": true,
            "ticks": "",
            "zerolinecolor": "white"
           }
          },
          "shapedefaults": {
           "line": {
            "color": "#2a3f5f"
           }
          },
          "ternary": {
           "aaxis": {
            "gridcolor": "white",
            "linecolor": "white",
            "ticks": ""
           },
           "baxis": {
            "gridcolor": "white",
            "linecolor": "white",
            "ticks": ""
           },
           "bgcolor": "#E5ECF6",
           "caxis": {
            "gridcolor": "white",
            "linecolor": "white",
            "ticks": ""
           }
          },
          "title": {
           "x": 0.05
          },
          "xaxis": {
           "automargin": true,
           "gridcolor": "white",
           "linecolor": "white",
           "ticks": "",
           "title": {
            "standoff": 15
           },
           "zerolinecolor": "white",
           "zerolinewidth": 2
          },
          "yaxis": {
           "automargin": true,
           "gridcolor": "white",
           "linecolor": "white",
           "ticks": "",
           "title": {
            "standoff": 15
           },
           "zerolinecolor": "white",
           "zerolinewidth": 2
          }
         }
        },
        "title": {
         "font": {
          "family": "Arial",
          "size": 20
         },
         "text": "Number of AI based Unicorn Companies",
         "x": 0.5
        },
        "width": 800
       }
      }
     },
     "metadata": {},
     "output_type": "display_data"
    }
   ],
   "source": [
    "country_vs_company_vis(country_ai_count,'Number of AI based Unicorn Companies')"
   ]
  },
  {
   "cell_type": "markdown",
   "metadata": {},
   "source": [
    "## Valuation analysis of  Artificial Intelligence based Unicorns\n"
   ]
  },
  {
   "cell_type": "code",
   "execution_count": 44,
   "metadata": {},
   "outputs": [
    {
     "data": {
      "text/plain": [
       "array([140.  ,  12.4 ,   7.3 ,   7.25,   6.8 ,   6.3 ,   5.2 ,   5.3 ,\n",
       "         5.  ,   4.6 ,   4.1 ,   4.  ,   3.5 ,   3.32,   2.92,   2.77,\n",
       "         2.7 ,   2.5 ,   2.3 ,   2.2 ,   2.18,   2.17,   2.1 ,   2.  ,\n",
       "         1.8 ,   1.7 ,   1.6 ,   1.5 ,   1.4 ,   1.35,   1.31,   1.3 ,\n",
       "         1.2 ,   1.19,   1.15,   1.  ,   1.03])"
      ]
     },
     "execution_count": 44,
     "metadata": {},
     "output_type": "execute_result"
    }
   ],
   "source": [
    "dataset_ai_subset['Valuation'].unique()"
   ]
  },
  {
   "cell_type": "code",
   "execution_count": 52,
   "metadata": {},
   "outputs": [
    {
     "data": {
      "image/png": "[encoded data removed]",
      "text/plain": [
       "<Figure size 1200x800 with 1 Axes>"
      ]
     },
     "metadata": {},
     "output_type": "display_data"
    }
   ],
   "source": [
    "company_vs_valuation_vis(dataset_ai_subset,'Artificial Intelligence based Unicorns',range(1,151,10),(12,8))"
   ]
  },
  {
   "cell_type": "markdown",
   "metadata": {},
   "source": [
    "### Most Valued Artificial Intelligence based Unicorns"
   ]
  },
  {
   "cell_type": "code",
   "execution_count": 56,
   "metadata": {},
   "outputs": [
    {
     "data": {
      "text/html": [
       "<div>\n",
       "<style scoped>\n",
       "    .dataframe tbody tr th:only-of-type {\n",
       "        vertical-align: middle;\n",
       "    }\n",
       "\n",
       "    .dataframe tbody tr th {\n",
       "        vertical-align: top;\n",
       "    }\n",
       "\n",
       "    .dataframe thead th {\n",
       "        text-align: right;\n",
       "    }\n",
       "</style>\n",
       "<table border=\"1\" class=\"dataframe\">\n",
       "  <thead>\n",
       "    <tr style=\"text-align: right;\">\n",
       "      <th></th>\n",
       "      <th>Company</th>\n",
       "      <th>Valuation</th>\n",
       "      <th>Country</th>\n",
       "      <th>Industry</th>\n",
       "      <th>Founded Year</th>\n",
       "      <th>Total Raised</th>\n",
       "      <th>Financial Stage</th>\n",
       "      <th>Investors Count</th>\n",
       "      <th>Portfolio Exits</th>\n",
       "    </tr>\n",
       "  </thead>\n",
       "  <tbody>\n",
       "    <tr>\n",
       "      <th>0</th>\n",
       "      <td>Bytedance</td>\n",
       "      <td>140.0</td>\n",
       "      <td>China</td>\n",
       "      <td>AI</td>\n",
       "      <td>2012.0</td>\n",
       "      <td>$7.44B</td>\n",
       "      <td>IPO</td>\n",
       "      <td>28.0</td>\n",
       "      <td>5.0</td>\n",
       "    </tr>\n",
       "    <tr>\n",
       "      <th>27</th>\n",
       "      <td>Faire</td>\n",
       "      <td>12.4</td>\n",
       "      <td>United States</td>\n",
       "      <td>AI</td>\n",
       "      <td>2017.0</td>\n",
       "      <td>$1.096B</td>\n",
       "      <td>Unknown</td>\n",
       "      <td>14.0</td>\n",
       "      <td>Unknown</td>\n",
       "    </tr>\n",
       "    <tr>\n",
       "      <th>80</th>\n",
       "      <td>Scale AI</td>\n",
       "      <td>7.3</td>\n",
       "      <td>United States</td>\n",
       "      <td>AI</td>\n",
       "      <td>2018.0</td>\n",
       "      <td>Unknown</td>\n",
       "      <td>Unknown</td>\n",
       "      <td>1.0</td>\n",
       "      <td>Unknown</td>\n",
       "    </tr>\n",
       "  </tbody>\n",
       "</table>\n",
       "</div>"
      ],
      "text/plain": [
       "      Company  Valuation        Country Industry Founded Year Total Raised  \\\n",
       "0   Bytedance      140.0          China       AI       2012.0       $7.44B   \n",
       "27      Faire       12.4  United States       AI       2017.0      $1.096B   \n",
       "80   Scale AI        7.3  United States       AI       2018.0      Unknown   \n",
       "\n",
       "   Financial Stage Investors Count Portfolio Exits  \n",
       "0              IPO            28.0             5.0  \n",
       "27         Unknown            14.0         Unknown  \n",
       "80         Unknown             1.0         Unknown  "
      ]
     },
     "execution_count": 56,
     "metadata": {},
     "output_type": "execute_result"
    }
   ],
   "source": [
    "#The most valued Unicorn amongst all is Bytedance with valuation $140 Billion,then there is Faire with $12.4 Billion and then Scale AI with #7.25 billion \n",
    "most_valued_ai=dataset_ai_subset[dataset_ai_subset['Company'].isin(['Bytedance','Faire','Scale AI'])]\n",
    "most_valued_ai"
   ]
  },
  {
   "cell_type": "markdown",
   "metadata": {},
   "source": [
    "### Least Valued Artificial Intelligence based Unicorns"
   ]
  },
  {
   "cell_type": "code",
   "execution_count": 57,
   "metadata": {},
   "outputs": [
    {
     "data": {
      "text/html": [
       "<div>\n",
       "<style scoped>\n",
       "    .dataframe tbody tr th:only-of-type {\n",
       "        vertical-align: middle;\n",
       "    }\n",
       "\n",
       "    .dataframe tbody tr th {\n",
       "        vertical-align: top;\n",
       "    }\n",
       "\n",
       "    .dataframe thead th {\n",
       "        text-align: right;\n",
       "    }\n",
       "</style>\n",
       "<table border=\"1\" class=\"dataframe\">\n",
       "  <thead>\n",
       "    <tr style=\"text-align: right;\">\n",
       "      <th></th>\n",
       "      <th>Company</th>\n",
       "      <th>Valuation</th>\n",
       "      <th>Country</th>\n",
       "      <th>Industry</th>\n",
       "      <th>Founded Year</th>\n",
       "      <th>Total Raised</th>\n",
       "      <th>Financial Stage</th>\n",
       "      <th>Investors Count</th>\n",
       "      <th>Portfolio Exits</th>\n",
       "    </tr>\n",
       "  </thead>\n",
       "  <tbody>\n",
       "    <tr>\n",
       "      <th>754</th>\n",
       "      <td>Hailo</td>\n",
       "      <td>1.0</td>\n",
       "      <td>Israel</td>\n",
       "      <td>AI</td>\n",
       "      <td>2017.0</td>\n",
       "      <td>$217M</td>\n",
       "      <td>Unknown</td>\n",
       "      <td>18.0</td>\n",
       "      <td>Unknown</td>\n",
       "    </tr>\n",
       "    <tr>\n",
       "      <th>794</th>\n",
       "      <td>BenevolentAI</td>\n",
       "      <td>1.0</td>\n",
       "      <td>United Kingdom</td>\n",
       "      <td>AI</td>\n",
       "      <td>2013.0</td>\n",
       "      <td>$345.55M</td>\n",
       "      <td>Unknown</td>\n",
       "      <td>7.0</td>\n",
       "      <td>Unknown</td>\n",
       "    </tr>\n",
       "    <tr>\n",
       "      <th>803</th>\n",
       "      <td>iCarbonX</td>\n",
       "      <td>1.0</td>\n",
       "      <td>China</td>\n",
       "      <td>AI</td>\n",
       "      <td>2015.0</td>\n",
       "      <td>$199M</td>\n",
       "      <td>Acq</td>\n",
       "      <td>3.0</td>\n",
       "      <td>3.0</td>\n",
       "    </tr>\n",
       "    <tr>\n",
       "      <th>830</th>\n",
       "      <td>Momenta</td>\n",
       "      <td>1.0</td>\n",
       "      <td>China</td>\n",
       "      <td>AI</td>\n",
       "      <td>2016.0</td>\n",
       "      <td>$1.283B</td>\n",
       "      <td>Unknown</td>\n",
       "      <td>28.0</td>\n",
       "      <td>Unknown</td>\n",
       "    </tr>\n",
       "    <tr>\n",
       "      <th>838</th>\n",
       "      <td>Globality</td>\n",
       "      <td>1.0</td>\n",
       "      <td>United States</td>\n",
       "      <td>AI</td>\n",
       "      <td>2015.0</td>\n",
       "      <td>$310.3M</td>\n",
       "      <td>Unknown</td>\n",
       "      <td>20.0</td>\n",
       "      <td>Unknown</td>\n",
       "    </tr>\n",
       "    <tr>\n",
       "      <th>840</th>\n",
       "      <td>Intellifusion</td>\n",
       "      <td>1.0</td>\n",
       "      <td>China</td>\n",
       "      <td>AI</td>\n",
       "      <td>2014.0</td>\n",
       "      <td>$287.85M</td>\n",
       "      <td>Unknown</td>\n",
       "      <td>36.0</td>\n",
       "      <td>Unknown</td>\n",
       "    </tr>\n",
       "    <tr>\n",
       "      <th>847</th>\n",
       "      <td>Meero</td>\n",
       "      <td>1.0</td>\n",
       "      <td>France</td>\n",
       "      <td>AI</td>\n",
       "      <td>2016.0</td>\n",
       "      <td>$297.5M</td>\n",
       "      <td>Unknown</td>\n",
       "      <td>10.0</td>\n",
       "      <td>Unknown</td>\n",
       "    </tr>\n",
       "    <tr>\n",
       "      <th>876</th>\n",
       "      <td>Standard</td>\n",
       "      <td>1.0</td>\n",
       "      <td>United States</td>\n",
       "      <td>AI</td>\n",
       "      <td>2017.0</td>\n",
       "      <td>$235.62M</td>\n",
       "      <td>Unknown</td>\n",
       "      <td>11.0</td>\n",
       "      <td>Unknown</td>\n",
       "    </tr>\n",
       "    <tr>\n",
       "      <th>885</th>\n",
       "      <td>Feedzai</td>\n",
       "      <td>1.0</td>\n",
       "      <td>United States</td>\n",
       "      <td>AI</td>\n",
       "      <td>2009.0</td>\n",
       "      <td>$277.8M</td>\n",
       "      <td>Unknown</td>\n",
       "      <td>10.0</td>\n",
       "      <td>Unknown</td>\n",
       "    </tr>\n",
       "    <tr>\n",
       "      <th>892</th>\n",
       "      <td>Groq</td>\n",
       "      <td>1.0</td>\n",
       "      <td>United States</td>\n",
       "      <td>AI</td>\n",
       "      <td>2016.0</td>\n",
       "      <td>$362.55M</td>\n",
       "      <td>Unknown</td>\n",
       "      <td>14.0</td>\n",
       "      <td>Unknown</td>\n",
       "    </tr>\n",
       "    <tr>\n",
       "      <th>895</th>\n",
       "      <td>Sift</td>\n",
       "      <td>1.0</td>\n",
       "      <td>United States</td>\n",
       "      <td>AI</td>\n",
       "      <td>2011.0</td>\n",
       "      <td>$156.52M</td>\n",
       "      <td>Unknown</td>\n",
       "      <td>20.0</td>\n",
       "      <td>Unknown</td>\n",
       "    </tr>\n",
       "    <tr>\n",
       "      <th>903</th>\n",
       "      <td>Shift Technology</td>\n",
       "      <td>1.0</td>\n",
       "      <td>France</td>\n",
       "      <td>AI</td>\n",
       "      <td>2014.0</td>\n",
       "      <td>$319.72M</td>\n",
       "      <td>Unknown</td>\n",
       "      <td>11.0</td>\n",
       "      <td>Unknown</td>\n",
       "    </tr>\n",
       "    <tr>\n",
       "      <th>904</th>\n",
       "      <td>TensTorrent</td>\n",
       "      <td>1.0</td>\n",
       "      <td>Canada</td>\n",
       "      <td>AI</td>\n",
       "      <td>2016.0</td>\n",
       "      <td>$221.03M</td>\n",
       "      <td>Unknown</td>\n",
       "      <td>4.0</td>\n",
       "      <td>Unknown</td>\n",
       "    </tr>\n",
       "    <tr>\n",
       "      <th>917</th>\n",
       "      <td>Tractable</td>\n",
       "      <td>1.0</td>\n",
       "      <td>United Kingdom</td>\n",
       "      <td>AI</td>\n",
       "      <td>2014.0</td>\n",
       "      <td>$119.83M</td>\n",
       "      <td>Unknown</td>\n",
       "      <td>10.0</td>\n",
       "      <td>Unknown</td>\n",
       "    </tr>\n",
       "    <tr>\n",
       "      <th>931</th>\n",
       "      <td>Amperity</td>\n",
       "      <td>1.0</td>\n",
       "      <td>United States</td>\n",
       "      <td>AI</td>\n",
       "      <td>2016.0</td>\n",
       "      <td>$217.3M</td>\n",
       "      <td>Unknown</td>\n",
       "      <td>15.0</td>\n",
       "      <td>Unknown</td>\n",
       "    </tr>\n",
       "    <tr>\n",
       "      <th>940</th>\n",
       "      <td>Unico</td>\n",
       "      <td>1.0</td>\n",
       "      <td>Brazil</td>\n",
       "      <td>AI</td>\n",
       "      <td>2007.0</td>\n",
       "      <td>$235.94M</td>\n",
       "      <td>Unknown</td>\n",
       "      <td>5.0</td>\n",
       "      <td>Unknown</td>\n",
       "    </tr>\n",
       "    <tr>\n",
       "      <th>942</th>\n",
       "      <td>Bluecore</td>\n",
       "      <td>1.0</td>\n",
       "      <td>United States</td>\n",
       "      <td>AI</td>\n",
       "      <td>2013.0</td>\n",
       "      <td>$238.12M</td>\n",
       "      <td>Unknown</td>\n",
       "      <td>8.0</td>\n",
       "      <td>Unknown</td>\n",
       "    </tr>\n",
       "    <tr>\n",
       "      <th>944</th>\n",
       "      <td>Snorkel AI</td>\n",
       "      <td>1.0</td>\n",
       "      <td>United States</td>\n",
       "      <td>AI</td>\n",
       "      <td>2019.0</td>\n",
       "      <td>$135M</td>\n",
       "      <td>Unknown</td>\n",
       "      <td>10.0</td>\n",
       "      <td>Unknown</td>\n",
       "    </tr>\n",
       "    <tr>\n",
       "      <th>948</th>\n",
       "      <td>Shield AI</td>\n",
       "      <td>1.0</td>\n",
       "      <td>United States</td>\n",
       "      <td>AI</td>\n",
       "      <td>2015.0</td>\n",
       "      <td>$345.35M</td>\n",
       "      <td>Unknown</td>\n",
       "      <td>6.0</td>\n",
       "      <td>Unknown</td>\n",
       "    </tr>\n",
       "    <tr>\n",
       "      <th>977</th>\n",
       "      <td>Augury</td>\n",
       "      <td>1.0</td>\n",
       "      <td>United States</td>\n",
       "      <td>AI</td>\n",
       "      <td>2011.0</td>\n",
       "      <td>$294M</td>\n",
       "      <td>Unknown</td>\n",
       "      <td>13.0</td>\n",
       "      <td>Unknown</td>\n",
       "    </tr>\n",
       "    <tr>\n",
       "      <th>991</th>\n",
       "      <td>Owkin</td>\n",
       "      <td>1.0</td>\n",
       "      <td>United States</td>\n",
       "      <td>AI</td>\n",
       "      <td>2016.0</td>\n",
       "      <td>$254.1M</td>\n",
       "      <td>Unknown</td>\n",
       "      <td>12.0</td>\n",
       "      <td>Unknown</td>\n",
       "    </tr>\n",
       "    <tr>\n",
       "      <th>999</th>\n",
       "      <td>Anyscale</td>\n",
       "      <td>1.0</td>\n",
       "      <td>United States</td>\n",
       "      <td>AI</td>\n",
       "      <td>2019.0</td>\n",
       "      <td>$160.6M</td>\n",
       "      <td>Unknown</td>\n",
       "      <td>10.0</td>\n",
       "      <td>Unknown</td>\n",
       "    </tr>\n",
       "    <tr>\n",
       "      <th>1011</th>\n",
       "      <td>Haomao.AI</td>\n",
       "      <td>1.0</td>\n",
       "      <td>China</td>\n",
       "      <td>AI</td>\n",
       "      <td>2019.0</td>\n",
       "      <td>$203.91M</td>\n",
       "      <td>Unknown</td>\n",
       "      <td>7.0</td>\n",
       "      <td>Unknown</td>\n",
       "    </tr>\n",
       "    <tr>\n",
       "      <th>1018</th>\n",
       "      <td>Placer.ai</td>\n",
       "      <td>1.0</td>\n",
       "      <td>United States</td>\n",
       "      <td>AI</td>\n",
       "      <td>2016.0</td>\n",
       "      <td>$166.34M</td>\n",
       "      <td>Unknown</td>\n",
       "      <td>19.0</td>\n",
       "      <td>Unknown</td>\n",
       "    </tr>\n",
       "    <tr>\n",
       "      <th>1024</th>\n",
       "      <td>Betterfly</td>\n",
       "      <td>1.0</td>\n",
       "      <td>Chile</td>\n",
       "      <td>AI</td>\n",
       "      <td>2018.0</td>\n",
       "      <td>$202.5M</td>\n",
       "      <td>Unknown</td>\n",
       "      <td>13.0</td>\n",
       "      <td>Unknown</td>\n",
       "    </tr>\n",
       "  </tbody>\n",
       "</table>\n",
       "</div>"
      ],
      "text/plain": [
       "               Company  Valuation         Country Industry Founded Year  \\\n",
       "754              Hailo        1.0          Israel       AI       2017.0   \n",
       "794       BenevolentAI        1.0  United Kingdom       AI       2013.0   \n",
       "803           iCarbonX        1.0           China       AI       2015.0   \n",
       "830            Momenta        1.0           China       AI       2016.0   \n",
       "838          Globality        1.0   United States       AI       2015.0   \n",
       "840      Intellifusion        1.0           China       AI       2014.0   \n",
       "847              Meero        1.0          France       AI       2016.0   \n",
       "876           Standard        1.0   United States       AI       2017.0   \n",
       "885            Feedzai        1.0   United States       AI       2009.0   \n",
       "892               Groq        1.0   United States       AI       2016.0   \n",
       "895               Sift        1.0   United States       AI       2011.0   \n",
       "903   Shift Technology        1.0          France       AI       2014.0   \n",
       "904        TensTorrent        1.0          Canada       AI       2016.0   \n",
       "917          Tractable        1.0  United Kingdom       AI       2014.0   \n",
       "931           Amperity        1.0   United States       AI       2016.0   \n",
       "940              Unico        1.0          Brazil       AI       2007.0   \n",
       "942           Bluecore        1.0   United States       AI       2013.0   \n",
       "944         Snorkel AI        1.0   United States       AI       2019.0   \n",
       "948          Shield AI        1.0   United States       AI       2015.0   \n",
       "977             Augury        1.0   United States       AI       2011.0   \n",
       "991              Owkin        1.0   United States       AI       2016.0   \n",
       "999           Anyscale        1.0   United States       AI       2019.0   \n",
       "1011         Haomao.AI        1.0           China       AI       2019.0   \n",
       "1018         Placer.ai        1.0   United States       AI       2016.0   \n",
       "1024         Betterfly        1.0           Chile       AI       2018.0   \n",
       "\n",
       "     Total Raised Financial Stage Investors Count Portfolio Exits  \n",
       "754         $217M         Unknown            18.0         Unknown  \n",
       "794      $345.55M         Unknown             7.0         Unknown  \n",
       "803         $199M             Acq             3.0             3.0  \n",
       "830       $1.283B         Unknown            28.0         Unknown  \n",
       "838       $310.3M         Unknown            20.0         Unknown  \n",
       "840      $287.85M         Unknown            36.0         Unknown  \n",
       "847       $297.5M         Unknown            10.0         Unknown  \n",
       "876      $235.62M         Unknown            11.0         Unknown  \n",
       "885       $277.8M         Unknown            10.0         Unknown  \n",
       "892      $362.55M         Unknown            14.0         Unknown  \n",
       "895      $156.52M         Unknown            20.0         Unknown  \n",
       "903      $319.72M         Unknown            11.0         Unknown  \n",
       "904      $221.03M         Unknown             4.0         Unknown  \n",
       "917      $119.83M         Unknown            10.0         Unknown  \n",
       "931       $217.3M         Unknown            15.0         Unknown  \n",
       "940      $235.94M         Unknown             5.0         Unknown  \n",
       "942      $238.12M         Unknown             8.0         Unknown  \n",
       "944         $135M         Unknown            10.0         Unknown  \n",
       "948      $345.35M         Unknown             6.0         Unknown  \n",
       "977         $294M         Unknown            13.0         Unknown  \n",
       "991       $254.1M         Unknown            12.0         Unknown  \n",
       "999       $160.6M         Unknown            10.0         Unknown  \n",
       "1011     $203.91M         Unknown             7.0         Unknown  \n",
       "1018     $166.34M         Unknown            19.0         Unknown  \n",
       "1024      $202.5M         Unknown            13.0         Unknown  "
      ]
     },
     "execution_count": 57,
     "metadata": {},
     "output_type": "execute_result"
    }
   ],
   "source": [
    "low_valued_ai=dataset_ai_subset[dataset_ai_subset['Valuation'].isin([1])]\n",
    "low_valued_ai"
   ]
  }
 ],
 "metadata": {
  "kernelspec": {
   "display_name": "Python 3",
   "language": "python",
   "name": "python3"
  },
  "language_info": {
   "codemirror_mode": {
    "name": "ipython",
    "version": 3
   },
   "file_extension": ".py",
   "mimetype": "text/x-python",
   "name": "python",
   "nbconvert_exporter": "python",
   "pygments_lexer": "ipython3",
   "version": "3.11.9"
  }
 },
 "nbformat": 4,
 "nbformat_minor": 2
}
